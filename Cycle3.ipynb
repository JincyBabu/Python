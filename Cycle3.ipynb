{
  "nbformat": 4,
  "nbformat_minor": 0,
  "metadata": {
    "colab": {
      "name": "Cycle3.ipynb",
      "provenance": [],
      "collapsed_sections": [],
      "authorship_tag": "ABX9TyPO9cFffVBN3SwbCr3POuij",
      "include_colab_link": true
    },
    "kernelspec": {
      "name": "python3",
      "display_name": "Python 3"
    }
  },
  "cells": [
    {
      "cell_type": "markdown",
      "metadata": {
        "id": "view-in-github",
        "colab_type": "text"
      },
      "source": [
        "<a href=\"https://colab.research.google.com/github/JincyBabu/Python/blob/main/Cycle3.ipynb\" target=\"_parent\"><img src=\"https://colab.research.google.com/assets/colab-badge.svg\" alt=\"Open In Colab\"/></a>"
      ]
    },
    {
      "cell_type": "code",
      "metadata": {
        "id": "veMpYNoqJoYx"
      },
      "source": [
        "#1"
      ],
      "execution_count": null,
      "outputs": []
    },
    {
      "cell_type": "code",
      "metadata": {
        "colab": {
          "base_uri": "https://localhost:8080/"
        },
        "id": "kOir6_dzKMUj",
        "outputId": "71d90550-2c65-408c-b46d-33f1d1aaf563"
      },
      "source": [
        "num=int(input(\"Enter a number: \"))\r\n",
        "fac=1\r\n",
        "i=1\r\n",
        "while i<=num:\r\n",
        "    fac=fac*i\r\n",
        "    i=i+1\r\n",
        "print(\"Factorial of\",num,\"is\",fac)"
      ],
      "execution_count": null,
      "outputs": [
        {
          "output_type": "stream",
          "text": [
            "Enter a number: 4\n",
            "Factorial of 4 is 24\n"
          ],
          "name": "stdout"
        }
      ]
    },
    {
      "cell_type": "code",
      "metadata": {
        "id": "EI2bdb13MAek"
      },
      "source": [
        "#2"
      ],
      "execution_count": null,
      "outputs": []
    },
    {
      "cell_type": "code",
      "metadata": {
        "colab": {
          "base_uri": "https://localhost:8080/"
        },
        "id": "i-Qy5n1CMBzb",
        "outputId": "60442dfe-c755-4c7b-9e21-31170cb994ce"
      },
      "source": [
        "number=int(input(\"\\nPlease enter the limit:\"))\r\n",
        "i=0\r\n",
        "First_Value=0\r\n",
        "Second_Value=1\r\n",
        "while (i<number):\r\n",
        "   if (i <= 1):\r\n",
        "      Next=i\r\n",
        "   else:\r\n",
        "     Next=First_Value + Second_Value\r\n",
        "     First_Value=Second_Value\r\n",
        "     Second_Value=Next\r\n",
        "   print(Next)\r\n",
        "   i=i+1"
      ],
      "execution_count": null,
      "outputs": [
        {
          "output_type": "stream",
          "text": [
            "\n",
            "Please enter the limit:7\n",
            "0\n",
            "1\n",
            "1\n",
            "2\n",
            "3\n",
            "5\n",
            "8\n"
          ],
          "name": "stdout"
        }
      ]
    },
    {
      "cell_type": "code",
      "metadata": {
        "id": "dFN5GGYKO9L4"
      },
      "source": [
        "#3"
      ],
      "execution_count": null,
      "outputs": []
    },
    {
      "cell_type": "code",
      "metadata": {
        "colab": {
          "base_uri": "https://localhost:8080/"
        },
        "id": "5frzc-2gO-e_",
        "outputId": "1638bfd6-890e-4eb1-ed27-1dc67ad837f5"
      },
      "source": [
        "NumList=[]\r\n",
        "number=int(input(\"Please enter the Total Number of List Elements:\"))\r\n",
        "for i in range(1,number+1):\r\n",
        "  value=int(input(\"Please enter the value of %d Element:\" %i))\r\n",
        "  NumList.append(value)\r\n",
        "total=sum(NumList)\r\n",
        "print(\"\\n The Sum of all Elements in this List is:\" ,total)"
      ],
      "execution_count": null,
      "outputs": [
        {
          "output_type": "stream",
          "text": [
            "Please enter the Total Number of List Elements:3\n",
            "Please enter the value of 1 Element:4\n",
            "Please enter the value of 2 Element:6\n",
            "Please enter the value of 3 Element:5\n",
            "\n",
            " The Sum of all Elements in this List is: 15\n"
          ],
          "name": "stdout"
        }
      ]
    },
    {
      "cell_type": "code",
      "metadata": {
        "id": "Jmvb0L0fGwkA"
      },
      "source": [
        "#6"
      ],
      "execution_count": null,
      "outputs": []
    },
    {
      "cell_type": "code",
      "metadata": {
        "id": "pUaX0nkAHQ_2",
        "colab": {
          "base_uri": "https://localhost:8080/"
        },
        "outputId": "d49f4049-3465-421e-c0f2-16f7e8174cc3"
      },
      "source": [
        "string=input(\"Enter the String :\")\r\n",
        "str1=list(string)\r\n",
        "strlist=[]\r\n",
        "for j in str1:\r\n",
        "   if j not in strlist:\r\n",
        "      strlist.append(j)\r\n",
        "      count=0\r\n",
        "      for i in range(len(str1)):\r\n",
        "       if j==str1[i]:\r\n",
        "          count +=1\r\n",
        "      print(\"{},{}\" .format(j,count))\r\n"
      ],
      "execution_count": 14,
      "outputs": [
        {
          "output_type": "stream",
          "text": [
            "Enter the String :malayalam\n",
            "m,2\n",
            "a,4\n",
            "l,2\n",
            "y,1\n"
          ],
          "name": "stdout"
        }
      ]
    },
    {
      "cell_type": "code",
      "metadata": {
        "id": "Li5ldBtgKlVm"
      },
      "source": [
        "#7"
      ],
      "execution_count": null,
      "outputs": []
    },
    {
      "cell_type": "code",
      "metadata": {
        "colab": {
          "base_uri": "https://localhost:8080/"
        },
        "id": "EMRUTlnsK2kr",
        "outputId": "1a78db96-fce0-47f0-93de-282492cfa7d2"
      },
      "source": [
        "def add_string(str1):\r\n",
        "   length=len(str1)\r\n",
        "   if length > 1:\r\n",
        "      if str1[-3:] == 'ing':\r\n",
        "       str1 += 'ly'\r\n",
        "      else:\r\n",
        "        str1 +='ing'\r\n",
        "   return str1\r\n",
        "print(add_string('rank'))\r\n",
        "print(add_string('walk'))\r\n",
        "print(add_string('charming'))"
      ],
      "execution_count": 32,
      "outputs": [
        {
          "output_type": "stream",
          "text": [
            "ranking\n",
            "walking\n",
            "charmingly\n"
          ],
          "name": "stdout"
        }
      ]
    },
    {
      "cell_type": "code",
      "metadata": {
        "id": "8DfvkfNbQm0o"
      },
      "source": [
        "#8"
      ],
      "execution_count": null,
      "outputs": []
    },
    {
      "cell_type": "code",
      "metadata": {
        "colab": {
          "base_uri": "https://localhost:8080/"
        },
        "id": "KPQLeHTkQoCb",
        "outputId": "a60ebcdf-af48-4bf0-c977-e06e9a052722"
      },
      "source": [
        "def longestlength(a):\r\n",
        "  max1=len(a[0])\r\n",
        "  temp=a[0]\r\n",
        "  for i in a:\r\n",
        "     if(len(i) > max1):\r\n",
        "       max1=len(i)\r\n",
        "       temp=i\r\n",
        "  print(\"The Word with the Longest Length is\", temp,\"and Length is\" ,max1)\r\n",
        "a=input(\"Enter a list of words seperated by comma : \")\r\n",
        "a=a.split(\",\")\r\n",
        "print(\"The List is : \" ,a)\r\n",
        "longestlength(a)"
      ],
      "execution_count": 35,
      "outputs": [
        {
          "output_type": "stream",
          "text": [
            "Enter a list of words seperated by comma : any,four,watch,manner\n",
            "The List is :  ['any', 'four', 'watch', 'manner']\n",
            "The Word with the Longest Length is manner and Length is 6\n"
          ],
          "name": "stdout"
        }
      ]
    },
    {
      "cell_type": "code",
      "metadata": {
        "id": "X12ekUwWSeum"
      },
      "source": [
        "#9"
      ],
      "execution_count": null,
      "outputs": []
    },
    {
      "cell_type": "code",
      "metadata": {
        "colab": {
          "base_uri": "https://localhost:8080/"
        },
        "id": "k8TuhUFPSf_P",
        "outputId": "3ce0de8a-6b7f-4303-fc07-3ec4c07ab805"
      },
      "source": [
        "n=int(input(\"How many lines you want? : \"))\r\n",
        "m= (2 * n) - 2\r\n",
        "for i in range(0, n):\r\n",
        "    for j in range(0, m):\r\n",
        "       print(end=\" \")\r\n",
        "    m = m - 1\r\n",
        "    for j in range(0, i+1):\r\n",
        "        print(\" * \", end=' ')\r\n",
        "    print(\" \")"
      ],
      "execution_count": 37,
      "outputs": [
        {
          "output_type": "stream",
          "text": [
            "How many lines you want? : 6\n",
            "           *   \n",
            "          *   *   \n",
            "         *   *   *   \n",
            "        *   *   *   *   \n",
            "       *   *   *   *   *   \n",
            "      *   *   *   *   *   *   \n"
          ],
          "name": "stdout"
        }
      ]
    },
    {
      "cell_type": "code",
      "metadata": {
        "id": "4uQFriLVI6Jm"
      },
      "source": [
        "#10"
      ],
      "execution_count": null,
      "outputs": []
    },
    {
      "cell_type": "code",
      "metadata": {
        "colab": {
          "base_uri": "https://localhost:8080/"
        },
        "id": "_zES5feSI9_J",
        "outputId": "3ed0e99c-07f0-45c0-eeb6-bc6aa6c939b1"
      },
      "source": [
        "num=int(input(\"Enter a Number: \"))\r\n",
        "factors=[]\r\n",
        "for i in range(1,num+1):\r\n",
        "    if num%i==0:\r\n",
        "       factors.append(i)\r\n",
        "print(\"Factors of {} = {} \".format(num,factors))"
      ],
      "execution_count": null,
      "outputs": [
        {
          "output_type": "stream",
          "text": [
            "Enter a Number: 35\n",
            "Factors of 35 = [1, 5, 7, 35] \n"
          ],
          "name": "stdout"
        }
      ]
    },
    {
      "cell_type": "code",
      "metadata": {
        "id": "UuMfibF1T-c7"
      },
      "source": [
        "#11"
      ],
      "execution_count": null,
      "outputs": []
    },
    {
      "cell_type": "code",
      "metadata": {
        "colab": {
          "base_uri": "https://localhost:8080/"
        },
        "id": "8oIA7NXAT_-c",
        "outputId": "890c47d1-78bf-4aa5-ea16-cd52160161dd"
      },
      "source": [
        "square_area = lambda l: l * l\r\n",
        "l = int(input(\"Enter the length of the Square : \"))\r\n",
        "print(\"Area of the Square : \", square_area(l))\r\n",
        "\r\n",
        "rect_area = lambda l, b : l * b\r\n",
        "l = int(input(\"\\nEnter the length of the Rectangle :\"))\r\n",
        "b = int(input(\"Enter the breadth of the Rectangle :\"))\r\n",
        "print(\"Area of the Rectangle : \" , rect_area(l , b))\r\n",
        "\r\n",
        "triangle_area = lambda b,h : 0.5 * b * h\r\n",
        "b = int(input(\"\\nEnter the base of the Triangle :\"))\r\n",
        "h = int(input(\"Enter the height of the Triangle : \"))\r\n",
        "print(\"Area of the Triangle : \" , triangle_area(b , h))"
      ],
      "execution_count": 41,
      "outputs": [
        {
          "output_type": "stream",
          "text": [
            "Enter the length of the Square : 5\n",
            "Area of the Square :  25\n",
            "\n",
            "Enter the length of the Rectangle :4\n",
            "Enter the breadth of the Rectangle :6\n",
            "Area of the Rectangle :  24\n",
            "\n",
            "Enter the base of the Triangle :8\n",
            "Enter the height of the Triangle : 5\n",
            "Area of the Triangle :  20.0\n"
          ],
          "name": "stdout"
        }
      ]
    }
  ]
}